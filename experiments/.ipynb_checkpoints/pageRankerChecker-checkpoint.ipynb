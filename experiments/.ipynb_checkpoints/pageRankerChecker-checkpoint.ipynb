{
 "cells": [
  {
   "cell_type": "code",
   "execution_count": 1,
   "metadata": {},
   "outputs": [],
   "source": [
    "import numpy as np\n",
    "import pandas as pd\n",
    "import networkx as nx\n",
    "import os\n",
    "import json\n",
    "\n",
    "import matplotlib.pyplot as plt\n",
    "%matplotlib inline\n",
    "\n",
    "cwd = os.getcwd()\n",
    "\n",
    "dir_as_list = cwd.split('/')\n",
    "base_path=''\n",
    "go = True\n",
    "i=0\n",
    "while go:\n",
    "    base_path= base_path+dir_as_list[i]+'/'\n",
    "    if dir_as_list[i]=='research':\n",
    "        go = False\n",
    "    i=i+1\n",
    "    \n",
    "graph_rel_path = \"sample-graphs/sourcecred_sourcecred.json\"\n",
    "infra_rel_path = \"infra\"\n",
    "\n",
    "graph_abs_file_path = os.path.abspath(os.path.join(base_path, graph_rel_path))\n",
    "infra_abs_path = os.path.abspath(os.path.join(base_path, infra_rel_path))\n",
    "\n",
    "os. chdir(infra_abs_path)\n",
    "import page_ranker as pr\n",
    "import import_graph as ig\n",
    "import inspect_subgraph as isg\n",
    "os. chdir(cwd)"
   ]
  },
  {
   "cell_type": "code",
   "execution_count": 2,
   "metadata": {},
   "outputs": [],
   "source": [
    "with open(graph_abs_file_path) as json_file:  \n",
    "    data = json.load(json_file)"
   ]
  },
  {
   "cell_type": "code",
   "execution_count": 3,
   "metadata": {},
   "outputs": [],
   "source": [
    "G = ig.json_to_graph(data)"
   ]
  },
  {
   "cell_type": "code",
   "execution_count": 4,
   "metadata": {},
   "outputs": [],
   "source": [
    "iterations = 20\n",
    "\n",
    "\n",
    "alpha = 0\n",
    "seed = {n:1/len(G.nodes) for n in G.nodes}\n",
    "self_loop_wt = 1/1000\n"
   ]
  },
  {
   "cell_type": "code",
   "execution_count": null,
   "metadata": {},
   "outputs": [],
   "source": [
    "r, df, g = pr.pageRanker(G,\n",
    "                         alpha,\n",
    "                         iterations,\n",
    "                         seed=seed,\n",
    "                         initial_value = seed,\n",
    "                         lazy=False,\n",
    "                         self_loop_wt=self_loop_wt)"
   ]
  },
  {
   "cell_type": "code",
   "execution_count": null,
   "metadata": {},
   "outputs": [
    {
     "data": {
      "text/plain": [
       "(array([2.000e+00, 2.000e+00, 1.000e+00, 6.500e+01, 2.168e+03, 1.725e+03,\n",
       "        9.960e+02, 5.630e+02, 5.330e+02, 2.100e+01, 1.000e+00, 0.000e+00,\n",
       "        0.000e+00, 2.000e+00, 1.000e+00]),\n",
       " array([-6.63145206, -6.23078144, -5.83011081, -5.42944019, -5.02876957,\n",
       "        -4.62809894, -4.22742832, -3.8267577 , -3.42608707, -3.02541645,\n",
       "        -2.62474583, -2.2240752 , -1.82340458, -1.42273396, -1.02206333,\n",
       "        -0.62139271]),\n",
       " <a list of 15 Patch objects>)"
      ]
     },
     "execution_count": 6,
     "metadata": {},
     "output_type": "execute_result"
    },
    {
     "data": {
      "image/png": "[encoded data removed]",
      "text/plain": [
       "<Figure size 432x288 with 1 Axes>"
      ]
     },
     "metadata": {
      "needs_background": "light"
     },
     "output_type": "display_data"
    }
   ],
   "source": [
    "plt.hist(np.log10(r), bins = 15)"
   ]
  },
  {
   "cell_type": "code",
   "execution_count": null,
   "metadata": {},
   "outputs": [],
   "source": [
    "df.apply(np.log10).plot(legend=False, figsize=(20,10),alpha=.5)"
   ]
  },
  {
   "cell_type": "code",
   "execution_count": null,
   "metadata": {},
   "outputs": [],
   "source": [
    "top25 = list(df.T.reset_index().sort_values(iterations).tail(25).index)"
   ]
  },
  {
   "cell_type": "code",
   "execution_count": null,
   "metadata": {},
   "outputs": [],
   "source": [
    "isg.inspectSubGraph(G, top25, expand=False, verbose=False, label=True,pos = \"kk\")"
   ]
  },
  {
   "cell_type": "code",
   "execution_count": null,
   "metadata": {},
   "outputs": [],
   "source": [
    "df.sum(axis=1)"
   ]
  },
  {
   "cell_type": "code",
   "execution_count": null,
   "metadata": {},
   "outputs": [],
   "source": [
    "plt.hist([np.log10(v) for v in list(nx.get_node_attributes(G,'total_wt').values())])"
   ]
  },
  {
   "cell_type": "code",
   "execution_count": null,
   "metadata": {},
   "outputs": [],
   "source": [
    "r"
   ]
  },
  {
   "cell_type": "code",
   "execution_count": null,
   "metadata": {},
   "outputs": [],
   "source": []
  }
 ],
 "metadata": {
  "kernelspec": {
   "display_name": "Python 3",
   "language": "python",
   "name": "python3"
  },
  "language_info": {
   "codemirror_mode": {
    "name": "ipython",
    "version": 3
   },
   "file_extension": ".py",
   "mimetype": "text/x-python",
   "name": "python",
   "nbconvert_exporter": "python",
   "pygments_lexer": "ipython3",
   "version": "3.6.8"
  }
 },
 "nbformat": 4,
 "nbformat_minor": 2
}
