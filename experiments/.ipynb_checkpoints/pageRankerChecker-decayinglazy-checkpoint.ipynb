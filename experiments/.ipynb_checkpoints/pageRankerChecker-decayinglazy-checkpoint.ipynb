{
 "cells": [
  {
   "cell_type": "code",
   "execution_count": 1,
   "metadata": {},
   "outputs": [],
   "source": [
    "import numpy as np\n",
    "import pandas as pd\n",
    "import networkx as nx\n",
    "import os\n",
    "import json\n",
    "\n",
    "import matplotlib.pyplot as plt\n",
    "%matplotlib inline\n",
    "\n",
    "cwd = os.getcwd()\n",
    "\n",
    "dir_as_list = cwd.split('/')\n",
    "base_path=''\n",
    "go = True\n",
    "i=0\n",
    "while go:\n",
    "    base_path= base_path+dir_as_list[i]+'/'\n",
    "    if dir_as_list[i]=='research':\n",
    "        go = False\n",
    "    i=i+1\n",
    "    \n",
    "graph_rel_path = \"sample-graphs/sourcecred_sourcecred.json\"\n",
    "infra_rel_path = \"infra\"\n",
    "\n",
    "graph_abs_file_path = os.path.abspath(os.path.join(base_path, graph_rel_path))\n",
    "infra_abs_path = os.path.abspath(os.path.join(base_path, infra_rel_path))\n",
    "\n",
    "os. chdir(infra_abs_path)\n",
    "import page_ranker as pr\n",
    "import import_graph as ig\n",
    "import inspect_subgraph as isg\n",
    "os. chdir(cwd)"
   ]
  },
  {
   "cell_type": "code",
   "execution_count": 2,
   "metadata": {},
   "outputs": [],
   "source": [
    "with open(graph_abs_file_path) as json_file:  \n",
    "    data = json.load(json_file)"
   ]
  },
  {
   "cell_type": "code",
   "execution_count": 3,
   "metadata": {},
   "outputs": [],
   "source": [
    "import sys\n",
    "infra_path = 'infra/'\n",
    "sys.path.insert(0, os.path.join(base_path, infra_path))\n",
    "import import_graph as ig"
   ]
  },
  {
   "cell_type": "code",
   "execution_count": 4,
   "metadata": {},
   "outputs": [],
   "source": [
    "G = ig.json_to_graph(data)"
   ]
  },
  {
   "cell_type": "code",
   "execution_count": null,
   "metadata": {},
   "outputs": [],
   "source": [
    "iterations = 20\n",
    "\n",
    "\n",
    "alpha = 0\n",
    "seed = {n:1/len(G.nodes) for n in G.nodes}\n",
    "self_loop_wt = 1/1000\n"
   ]
  },
  {
   "cell_type": "code",
   "execution_count": null,
   "metadata": {},
   "outputs": [],
   "source": [
    "r, df, g = pr.pageRanker(G,\n",
    "                         alpha,\n",
    "                         iterations,\n",
    "                         seed=seed,\n",
    "                         initial_value = seed,\n",
    "                         lazy=True,\n",
    "                         lazy_decay=True,\n",
    "                         self_loop_wt=self_loop_wt)"
   ]
  },
  {
   "cell_type": "code",
   "execution_count": null,
   "metadata": {},
   "outputs": [
    {
     "data": {
      "text/plain": [
       "(array([2.000e+00, 2.000e+00, 1.000e+00, 6.100e+01, 2.197e+03, 1.701e+03,\n",
       "        9.950e+02, 5.620e+02, 5.340e+02, 2.100e+01, 1.000e+00, 0.000e+00,\n",
       "        0.000e+00, 2.000e+00, 1.000e+00]),\n",
       " array([-6.62996101, -6.22943603, -5.82891105, -5.42838607, -5.0278611 ,\n",
       "        -4.62733612, -4.22681114, -3.82628616, -3.42576119, -3.02523621,\n",
       "        -2.62471123, -2.22418626, -1.82366128, -1.4231363 , -1.02261132,\n",
       "        -0.62208635]),\n",
       " <a list of 15 Patch objects>)"
      ]
     },
     "execution_count": 7,
     "metadata": {},
     "output_type": "execute_result"
    },
    {
     "data": {
      "image/png": "[encoded data removed]",
      "text/plain": [
       "<Figure size 432x288 with 1 Axes>"
      ]
     },
     "metadata": {
      "needs_background": "light"
     },
     "output_type": "display_data"
    }
   ],
   "source": [
    "plt.hist(np.log10(r), bins = 15)"
   ]
  },
  {
   "cell_type": "code",
   "execution_count": null,
   "metadata": {},
   "outputs": [],
   "source": [
    "df.apply(np.log10).plot(legend=False, figsize=(20,10),alpha=.5)"
   ]
  },
  {
   "cell_type": "code",
   "execution_count": null,
   "metadata": {},
   "outputs": [],
   "source": [
    "top25 = list(df.T.reset_index().sort_values(iterations).tail(25).index)"
   ]
  },
  {
   "cell_type": "code",
   "execution_count": null,
   "metadata": {},
   "outputs": [],
   "source": [
    "isg.inspectSubGraph(G, top25, expand=False, verbose=False, label=True,pos = \"kk\")"
   ]
  },
  {
   "cell_type": "code",
   "execution_count": null,
   "metadata": {},
   "outputs": [],
   "source": [
    "df.sum(axis=1)"
   ]
  },
  {
   "cell_type": "code",
   "execution_count": null,
   "metadata": {},
   "outputs": [],
   "source": [
    "plt.hist([np.log10(v) for v in list(nx.get_node_attributes(G,'total_wt').values())])"
   ]
  },
  {
   "cell_type": "code",
   "execution_count": null,
   "metadata": {},
   "outputs": [],
   "source": [
    "r"
   ]
  },
  {
   "cell_type": "code",
   "execution_count": null,
   "metadata": {},
   "outputs": [],
   "source": []
  }
 ],
 "metadata": {
  "kernelspec": {
   "display_name": "Python 3",
   "language": "python",
   "name": "python3"
  },
  "language_info": {
   "codemirror_mode": {
    "name": "ipython",
    "version": 3
   },
   "file_extension": ".py",
   "mimetype": "text/x-python",
   "name": "python",
   "nbconvert_exporter": "python",
   "pygments_lexer": "ipython3",
   "version": "3.6.8"
  }
 },
 "nbformat": 4,
 "nbformat_minor": 2
}
