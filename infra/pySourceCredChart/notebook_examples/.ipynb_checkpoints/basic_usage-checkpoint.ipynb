{
 "cells": [
  {
   "cell_type": "code",
   "execution_count": 1,
   "metadata": {},
   "outputs": [],
   "source": [
    "import json\n",
    "import os"
   ]
  },
  {
   "cell_type": "code",
   "execution_count": 2,
   "metadata": {},
   "outputs": [],
   "source": [
    "wd = os.getcwd()\n",
    "\n",
    "rel_path = \"C:/Users/Morton/Documents/GitHub/research/sample-graphs/sourcecred_sourcecred.json\"\n",
    "with open(rel_path) as json_file:  \n",
    "    data = json.load(json_file)\n",
    "    \n",
    "rel_path2 = \"C:/Users/Morton/Documents/GitHub/research/sample-graphs/sourcecred_research.json\"\n",
    "with open(rel_path2) as json_file:  \n",
    "    data2 = json.load(json_file)\n",
    "    \n",
    "message = ([{\n",
    "            'element': \"myChart\",\n",
    "            'data': data2[1],\n",
    "            'scores': None,\n",
    "            'mapping': {\n",
    "              'nodes': 'nodes',\n",
    "              'nodeLabel': 2,\n",
    "              'nodeGroup': 2,\n",
    "              'nodeSize': None,\n",
    "              'edges': 'edges',\n",
    "              'edgeGroup': None,\n",
    "              'edgeSize': None,\n",
    "              'source': 'srcIndex',\n",
    "              'target': 'dstIndex'\n",
    "            },\n",
    "            'options': None\n",
    "\n",
    "}])"
   ]
  },
  {
   "cell_type": "code",
   "execution_count": 3,
   "metadata": {},
   "outputs": [
    {
     "data": {
      "application/vnd.jupyter.widget-view+json": {
       "model_id": "2bd2d0a90658462e9eb76fff9a4be6e8",
       "version_major": 2,
       "version_minor": 0
      },
      "text/plain": [
       "sourceCredChart(layout=Layout(align_self='stretch', height='400px'))"
      ]
     },
     "metadata": {},
     "output_type": "display_data"
    }
   ],
   "source": [
    "from pySourceCredChart import pySourceCredChart\n",
    "chart = pySourceCredChart.sourceCredChart()\n",
    "chart.set_message(message)\n",
    "chart"
   ]
  },
  {
   "cell_type": "code",
   "execution_count": 4,
   "metadata": {},
   "outputs": [],
   "source": [
    "new_data = data2[1]\n",
    "chart.set_data([new_data])"
   ]
  },
  {
   "cell_type": "code",
   "execution_count": null,
   "metadata": {},
   "outputs": [],
   "source": []
  }
 ],
 "metadata": {
  "kernelspec": {
   "display_name": "Python 3",
   "language": "python",
   "name": "python3"
  },
  "language_info": {
   "codemirror_mode": {
    "name": "ipython",
    "version": 3
   },
   "file_extension": ".py",
   "mimetype": "text/x-python",
   "name": "python",
   "nbconvert_exporter": "python",
   "pygments_lexer": "ipython3",
   "version": "3.7.3"
  }
 },
 "nbformat": 4,
 "nbformat_minor": 2
}
